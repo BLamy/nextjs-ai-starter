{
 "cells": [
  {
   "cell_type": "code",
   "execution_count": null,
   "metadata": {},
   "outputs": [],
   "source": [
    "%pip install guardrails-ai==0.1.4\n",
    "import sys\n",
    "import guardrails as gd\n",
    "guard = gd.Guard.from_rail(sys.argv[1])\n",
    "print(guard.base_prompt)\n",
    "sys.stdout.flush()"
   ]
  }
 ],
 "metadata": {
  "language_info": {
   "name": "python"
  },
  "orig_nbformat": 4
 },
 "nbformat": 4,
 "nbformat_minor": 2
}
